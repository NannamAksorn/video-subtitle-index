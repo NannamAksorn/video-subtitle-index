{
 "cells": [
  {
   "cell_type": "code",
   "execution_count": 379,
   "metadata": {},
   "outputs": [],
   "source": [
    "import os\n",
    "import glob\n",
    "import json\n",
    "import math"
   ]
  },
  {
   "cell_type": "code",
   "execution_count": 383,
   "metadata": {
    "scrolled": false
   },
   "outputs": [],
   "source": [
    "def inverted_index(path, docid):\n",
    "    global inverted_lists\n",
    "    tmp_docs = []\n",
    "    tmp_lines = []\n",
    "\n",
    "    with open(path) as file:\n",
    "        for line in file:\n",
    "            if not line.strip():\n",
    "                tmp_docs.append(tmp_lines)\n",
    "                tmp_lines = []\n",
    "            else: \n",
    "                tmp_lines.append(line)\n",
    "\n",
    "\n",
    "    record_id = 0\n",
    "    word_count = 0\n",
    "    clean_docs = []\n",
    "    for docs in tmp_docs:\n",
    "        line = \" \".join(docs[2:])\n",
    "        clean_docs.append(re.split(\"[^a-zA-Z]+\", line))\n",
    "        word_count += len(clean_docs[-1])\n",
    "    for line in clean_docs:\n",
    "        record_id += 1\n",
    "        for word in line:\n",
    "            if len(word) > 0:\n",
    "                word = word.lower()\n",
    "                if word not in inverted_lists:\n",
    "                    inverted_lists[word] = {docid:[0,0]}\n",
    "                elif not inverted_lists[word].get(docid):\n",
    "                    inverted_lists[word][docid] = [0,0]\n",
    "                inverted_lists[word][docid][1] += 1.0 / word_count\n",
    "                inverted_lists[word][docid].append(record_id)"
   ]
  },
  {
   "cell_type": "code",
   "execution_count": 384,
   "metadata": {},
   "outputs": [],
   "source": [
    "inverted_lists = {}\n",
    "docId = {}\n",
    "folder = glob.glob('srt/*.srt')\n",
    "# with open('docId', 'r') as f:\n",
    "#     docId = json.load(f)\n",
    "# with open('inverted_index', 'r') as f:\n",
    "#     inverted_lists = json.load(f)\n",
    "    \n",
    "counter = len(list(docId.items()))\n",
    "for file in folder:\n",
    "    filename = os.path.basename(file)[:-4]\n",
    "    if (not docId.get(filename)):\n",
    "        counter += 1\n",
    "        docId[filename] = counter\n",
    "        inverted_index(file, counter)\n",
    "with open('docId', 'w') as f:\n",
    "    json.dump(docId, f)\n",
    "with open('inverted_index', 'w') as f:\n",
    "    json.dump(inverted_lists, f)"
   ]
  },
  {
   "cell_type": "code",
   "execution_count": 378,
   "metadata": {},
   "outputs": [],
   "source": [
    "def cal_tfidf():\n",
    "    N = len(docId)\n",
    "    for word in inverted_lists:\n",
    "        df = len(inverted_lists[word])\n",
    "        idf = math.log( N / df, 10 )\n",
    "        for doc in inverted_lists[word]:\n",
    "            tf = inverted_lists[word][doc][1]\n",
    "            inverted_lists[word][doc][0] = tf * idf"
   ]
  },
  {
   "cell_type": "code",
   "execution_count": 385,
   "metadata": {},
   "outputs": [],
   "source": [
    "cal_tfidf()"
   ]
  },
  {
   "cell_type": "code",
   "execution_count": 386,
   "metadata": {},
   "outputs": [],
   "source": [
    "def zipper(listA, listB):\n",
    "    i = 0\n",
    "    j = 0\n",
    "    resultDoc = []\n",
    "    while i < len(listA) and j < len(listB):\n",
    "        if listA[i] == listB[j]:\n",
    "            resultDoc.append(listA[i])\n",
    "            i += 1\n",
    "            j += 1\n",
    "        elif listA[i] > listB[j]:\n",
    "            j += 1\n",
    "        else:\n",
    "            i += 1\n",
    "    return resultDoc"
   ]
  },
  {
   "cell_type": "code",
   "execution_count": 387,
   "metadata": {},
   "outputs": [],
   "source": [
    "def merge_inverted_lists(queryA, queryB):    \n",
    "    listA = inverted_lists[queryA]\n",
    "    listA = list(listA.keys())\n",
    "    listB = inverted_lists[queryB]\n",
    "    listB = list(listB.keys())\n",
    "    \n",
    "    return zipper(listA, listB)"
   ]
  },
  {
   "cell_type": "code",
   "execution_count": 456,
   "metadata": {},
   "outputs": [],
   "source": [
    "query_string = \"integer lower bound\""
   ]
  },
  {
   "cell_type": "code",
   "execution_count": 457,
   "metadata": {},
   "outputs": [],
   "source": [
    "returnDoc = []\n",
    "\n",
    "query_list = re.split(\"[^a-zA-Z]+\", query_string)\n",
    "\n",
    "if len(query_list) >= 1:\n",
    "    listA = inverted_lists[query_list[0]]\n",
    "    listA = list(listA.keys())\n",
    "    returnDoc = listA\n",
    "    \n",
    "if len(query_list) >= 2:\n",
    "    listB = inverted_lists[query_list[1]]\n",
    "    listB = list(listB.keys())\n",
    "    returnDoc = zipper(listA, listB)\n",
    "    \n",
    "if len(query_list) >=3:\n",
    "    for query in query_list[2:]:\n",
    "        listC = inverted_lists[query]\n",
    "        listC = list(listC.keys())\n",
    "        returnDoc = zipper(returnDoc, listC)\n"
   ]
  },
  {
   "cell_type": "code",
   "execution_count": 458,
   "metadata": {},
   "outputs": [],
   "source": [
    "returnDoc_score = []\n",
    "for doc in returnDoc:\n",
    "    returnDoc_score.append([doc,0])\n",
    "    for query in query_list:\n",
    "        returnDoc_score[-1][1] += inverted_lists[query][doc][0] \n",
    "\n"
   ]
  },
  {
   "cell_type": "code",
   "execution_count": 459,
   "metadata": {},
   "outputs": [],
   "source": [
    "returnDoc_score.sort(key= lambda x: x[1], reverse=True)"
   ]
  },
  {
   "cell_type": "code",
   "execution_count": 460,
   "metadata": {},
   "outputs": [
    {
     "data": {
      "text/plain": [
       "[[13, 0.0003487565436216829],\n",
       " [11, 0.00032203792961760263],\n",
       " [17, 0.0002265196815214475],\n",
       " [2, 0.00013989666860434054],\n",
       " [7, 0.00013589419691143037],\n",
       " [15, 8.571037670213279e-05],\n",
       " [8, 6.609181006935986e-05],\n",
       " [16, 6.361781669103489e-05],\n",
       " [14, 3.993229597433665e-05]]"
      ]
     },
     "execution_count": 460,
     "metadata": {},
     "output_type": "execute_result"
    }
   ],
   "source": [
    "returnDoc_score"
   ]
  },
  {
   "cell_type": "code",
   "execution_count": 461,
   "metadata": {},
   "outputs": [
    {
     "name": "stdout",
     "output_type": "stream",
     "text": [
      "[0.00011939120369601913, 0.006184420818567166, 12, 19, 20, 24, 27, 31, 41, 43, 63, 71, 110, 146, 147, 166, 172, 174, 187, 199, 215, 217, 217, 219, 220, 224, 250, 251, 255, 258, 258, 261, 269, 294, 359, 363, 364, 371, 372, 375, 385, 394, 401, 427, 443, 453, 466, 474, 483, 493, 522, 528, 530, 556, 583, 650, 652, 666, 671, 759, 911, 924, 935, 936, 1045, 1048, 1051, 1053, 1072, 1091, 1101, 1413, 1422, 1484, 1527, 1535, 1566, 1601, 1603, 1610, 1637, 1639, 1719, 1771, 1802, 1814, 1835, 1844, 1897, 1910, 1918]\n",
      "[0.0, 0.004030296713223539, 41, 134, 187, 215, 219, 221, 250, 255, 258, 261, 269, 360, 363, 371, 375, 394, 401, 454, 466, 474, 483, 493, 522, 528, 531, 557, 601, 608, 651, 652, 666, 671, 760, 911, 935, 936, 1045, 1048, 1051, 1053, 1072, 1091, 1102, 1413, 1422, 1484, 1527, 1535, 1566, 1603, 1611, 1637, 1639, 1719, 1771, 1814, 1897, 1918]\n",
      "[0.00015581586102533354, 0.0004864151205614621, 238, 336, 337, 927, 929, 1272, 1816]\n"
     ]
    }
   ],
   "source": [
    "print(inverted_lists['data'][1])\n",
    "print(inverted_lists['structure'][1])\n",
    "print(inverted_lists['future'][1])"
   ]
  },
  {
   "cell_type": "code",
   "execution_count": 438,
   "metadata": {},
   "outputs": [
    {
     "data": {
      "text/plain": [
       "{'MIT6_851S12_lec01_300k': 1,\n",
       " 'MIT6_851S12_lec02_300k': 2,\n",
       " 'MIT6_851S12_lec03_300k': 3,\n",
       " 'MIT6_851S12_lec04_300k': 4,\n",
       " 'MIT6_851S12_lec05_300k': 5,\n",
       " 'MIT6_851S12_lec06_300k': 6,\n",
       " 'MIT6_851S12_lec07_300k': 7,\n",
       " 'MIT6_851S12_lec08_300k': 8,\n",
       " 'MIT6_851S12_lec09_300k': 9,\n",
       " 'MIT6_851S12_lec10_300k': 10,\n",
       " 'MIT6_851S12_lec11_300k': 11,\n",
       " 'MIT6_851S12_lec12_300k': 12,\n",
       " 'MIT6_851S12_lec13_300k': 13,\n",
       " 'MIT6_851S12_lec14_300k': 14,\n",
       " 'MIT6_851S12_lec15_300k': 15,\n",
       " 'MIT6_851S12_lec16_300k': 16,\n",
       " 'MIT6_851S12_lec17_300k': 17,\n",
       " 'MIT6_851S12_lec18_300k': 18,\n",
       " 'MIT6_851S12_lec19_300k': 19,\n",
       " 'MIT6_851S12_lec20_300k': 20,\n",
       " 'MIT6_851S12_lec21_300k': 21,\n",
       " 'MIT6_851S12_lec22_300k': 22,\n",
       " 'sf': 23}"
      ]
     },
     "execution_count": 438,
     "metadata": {},
     "output_type": "execute_result"
    }
   ],
   "source": [
    "docId"
   ]
  },
  {
   "cell_type": "code",
   "execution_count": null,
   "metadata": {},
   "outputs": [],
   "source": []
  }
 ],
 "metadata": {
  "kernelspec": {
   "display_name": "Python 3",
   "language": "python",
   "name": "python3"
  },
  "language_info": {
   "codemirror_mode": {
    "name": "ipython",
    "version": 3
   },
   "file_extension": ".py",
   "mimetype": "text/x-python",
   "name": "python",
   "nbconvert_exporter": "python",
   "pygments_lexer": "ipython3",
   "version": "3.6.1"
  }
 },
 "nbformat": 4,
 "nbformat_minor": 2
}
