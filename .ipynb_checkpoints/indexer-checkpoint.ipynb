{
 "cells": [
  {
   "cell_type": "code",
   "execution_count": 725,
   "metadata": {},
   "outputs": [],
   "source": [
    "import os\n",
    "import glob\n",
    "import json\n",
    "import math\n",
    "import re\n",
    "from nltk.stem import PorterStemmer \n",
    "from nltk.tokenize import word_tokenize"
   ]
  },
  {
   "cell_type": "code",
   "execution_count": 726,
   "metadata": {},
   "outputs": [],
   "source": [
    "ps = PorterStemmer()"
   ]
  },
  {
   "cell_type": "code",
   "execution_count": null,
   "metadata": {},
   "outputs": [],
   "source": [
    "def cleanhtml(raw_html):\n",
    "    cleanr = re.compile('<.*?>')\n",
    "    cleantext = re.sub(cleanr, '', raw_html)\n",
    "    return cleantext"
   ]
  },
  {
   "cell_type": "code",
   "execution_count": 727,
   "metadata": {},
   "outputs": [],
   "source": [
    "def clearIndex():\n",
    "    with open('docId', 'w', encoding=\"utf8\") as f:\n",
    "        f.writelines('{}')\n",
    "    with open('inverted_index', 'w', encoding=\"utf8\") as f:\n",
    "        f.writelines('{}')"
   ]
  },
  {
   "cell_type": "code",
   "execution_count": 728,
   "metadata": {},
   "outputs": [],
   "source": [
    "clearIndex()"
   ]
  },
  {
   "cell_type": "code",
   "execution_count": 729,
   "metadata": {},
   "outputs": [],
   "source": [
    "def create_srt_index(docid):\n",
    "    \"\"\"{doc:{id:time, ...}, ...}\"\"\"\n",
    "    srt_index = {}\n",
    "    with open('srtId', 'r', encoding=\"utf8\") as f:\n",
    "        srt_index = json.load(f)\n",
    "        \n",
    "    with open('docId', 'w', encoding=\"utf8\") as f:\n",
    "        json.dump(docId, f)\n",
    "    "
   ]
  },
  {
   "cell_type": "code",
   "execution_count": 730,
   "metadata": {},
   "outputs": [],
   "source": [
    "with open('docId', 'r', encoding=\"utf8\") as f:\n",
    "    docId = json.load(f)\n",
    "with open('inverted_index', 'r', encoding=\"utf8\") as f:\n",
    "    inverted_lists = json.load(f)"
   ]
  },
  {
   "cell_type": "code",
   "execution_count": 731,
   "metadata": {
    "scrolled": false
   },
   "outputs": [],
   "source": [
    "def inverted_index(path, docid):\n",
    "    global inverted_lists\n",
    "    docid = int(docid)\n",
    "    tmp_docs = []\n",
    "    tmp_lines = []\n",
    "    #open srt and group by srt list\n",
    "    with open(path, encoding=\"utf8\") as file:\n",
    "        for line in file:\n",
    "            if not line.strip():\n",
    "                tmp_docs.append(tmp_lines)\n",
    "                tmp_lines = []\n",
    "            else: \n",
    "                tmp_lines.append(line)\n",
    "\n",
    "\n",
    "    word_count = 0\n",
    "    tokenized_docs = []\n",
    "    rid=0\n",
    "    doc_count = 0\n",
    "    for docs in tmp_docs:\n",
    "\n",
    "        docs = [doc.strip() for doc in docs]\n",
    "        line = \" \".join(docs[2:])\n",
    "\n",
    "        # append [line_id, [line_words_list]]\n",
    "        try:\n",
    "            rid = int(docs[0])\n",
    "        except Exception as e:\n",
    "            print(e)\n",
    "            rid = doc_count\n",
    "        tokenized_docs.append([rid,word_tokenize(line)])\n",
    "        word_count += len(tokenized_docs[-1])\n",
    "    for line in tokenized_docs:\n",
    "        for word in line[1]:\n",
    "            doc_count += 1\n",
    "            if len(word) > 0:\n",
    "                word = ps.stem(word)\n",
    "                if word not in inverted_lists:\n",
    "                    inverted_lists[word] = {docid:[0,0,0]}\n",
    "                elif not inverted_lists[word].get(docid):\n",
    "                    inverted_lists[word][docid] = [0,0,0]\n",
    "                inverted_lists[word][docid][1] += 1.0 / word_count\n",
    "                inverted_lists[word][docid][2] += 1\n",
    "                inverted_lists[word][docid].append(line[0])"
   ]
  },
  {
   "cell_type": "code",
   "execution_count": 732,
   "metadata": {
    "scrolled": true
   },
   "outputs": [
    {
     "name": "stdout",
     "output_type": "stream",
     "text": [
      "srt\\7 Ways to Improve Your NEGOTIATION SKILLS - #7Ways.srt\n",
      "invalid literal for int() with base 10: '\\ufeff1'\n",
      "srt\\Best DIY Robot kit for beginners - Micro_Bit.srt\n",
      "srt\\Build a tower, build a team _ Tom Wujec.srt\n",
      "srt\\Ch. 0 If The World Were A Village.srt\n",
      "invalid literal for int() with base 10: '\\ufeff1'\n",
      "srt\\Conducting Effective Negotiations.srt\n",
      "invalid literal for int() with base 10: '\\ufeff1'\n",
      "srt\\Design Thinking - Tim Brown, CEO and President of IDEO.srt\n",
      "invalid literal for int() with base 10: '\\ufeff1'\n",
      "srt\\Design Thinking In Business.srt\n",
      "srt\\Design Thinking workshop with Justin Ferrell of Stanford d. School at The Irish Times.srt\n",
      "srt\\Designing Your Life Bill Burnett TEDxStanford.srt\n",
      "invalid literal for int() with base 10: '\\ufeff1'\n",
      "srt\\Getting Started with microbit Part 1 Say Hello.srt\n",
      "invalid literal for int() with base 10: '\\ufeff1'\n",
      "srt\\Getting Started with microbit Part 4 Remote Burglar Alarm.srt\n",
      "invalid literal for int() with base 10: '\\ufeff1'\n",
      "srt\\Getting Started with micro_bit Part 2_ Electronic Magic 8 Ball.srt\n",
      "srt\\Group Initiative that Inspires Powerful Metaphors - Marshmallow Challenge.srt\n",
      "invalid literal for int() with base 10: '\\ufeff1'\n",
      "srt\\How It Works Design Thinking.srt\n",
      "invalid literal for int() with base 10: '\\ufeff1'\n",
      "srt\\How to Demonstrate Engineering Principles Science Projects.srt\n",
      "invalid literal for int() with base 10: '\\ufeff1'\n",
      "srt\\If The World Was 100 People by Jay Shetty.srt\n",
      "invalid literal for int() with base 10: '\\ufeff1'\n",
      "srt\\If the World Was Only 100 People.srt\n",
      "srt\\If the World Were a Village of 100 People A Story About the World's People - Trailer.srt\n",
      "invalid literal for int() with base 10: '\\ufeff1'\n",
      "srt\\Line follower robot - Micro bit robot project - How to make a Snake Robot.srt\n",
      "invalid literal for int() with base 10: '\\ufeff1'\n",
      "srt\\microbit Tutorial Series Part 1 Getting Started.srt\n",
      "invalid literal for int() with base 10: '\\ufeff1'\n",
      "srt\\microbit Tutorial Series Part 2 Images, Buttons, and Conditionals.srt\n",
      "invalid literal for int() with base 10: '\\ufeff1'\n",
      "srt\\MITESD_051JF12_lec02_300k.srt\n",
      "srt\\MITESD_051JF12_lec03_300k.srt\n",
      "srt\\Negotiation Skills Top 10 Tips.srt\n",
      "invalid literal for int() with base 10: '\\ufeff1'\n",
      "srt\\Peter Skillman Marshmallow Design Challenge.srt\n",
      "invalid literal for int() with base 10: '\\ufeff1'\n",
      "srt\\Spaghetti and Marshmallow tower- team awesome.srt\n",
      "invalid literal for int() with base 10: '\\ufeff1'\n",
      "srt\\Speed up Innovation with Design Thinking Guido Stompff TEDxVenlo.srt\n",
      "invalid literal for int() with base 10: '\\ufeff1'\n",
      "srt\\Stanford Webinar - Design Thinking = Method, Not Magic.srt\n",
      "invalid literal for int() with base 10: '\\ufeff1'\n",
      "srt\\The Design Thinking Process.srt\n",
      "invalid literal for int() with base 10: '\\ufeff1'\n",
      "srt\\What If United States Was Only 100 People.srt\n",
      "invalid literal for int() with base 10: '\\ufeff1'\n",
      "srt\\[DownSub.com] The Art of Negotiation _ Maria Ploumaki _ TEDxYouth@Zurich.srt\n",
      "srt\\[DownSub.com] Understand IBM Design Thinking in 10 minutes.srt\n",
      "srt\\[DownSub.com] What If Only 100 People Existed on Earth_.srt\n"
     ]
    }
   ],
   "source": [
    "inverted_lists = {}\n",
    "docId = {}\n",
    "folder = glob.glob('srt/*.srt')\n",
    "with open('docId', 'r', encoding=\"utf8\") as f:\n",
    "    docId = json.load(f)\n",
    "with open('inverted_index', 'r', encoding=\"utf8\") as f:\n",
    "    inverted_lists = json.load(f)\n",
    "    \n",
    "counter = len(list(docId.items()))\n",
    "for file in folder:\n",
    "    filename = os.path.basename(file)[:-4]\n",
    "    if (not docId.get(filename)):\n",
    "        print(file)\n",
    "        counter += 1\n",
    "        docId[filename] = counter\n",
    "        inverted_index(file, counter)\n",
    "with open('docId', 'w', encoding=\"utf8\") as f:\n",
    "    json.dump(docId, f)\n",
    "with open('inverted_index', 'w', encoding=\"utf8\") as f:\n",
    "    json.dump(inverted_lists, f)"
   ]
  },
  {
   "cell_type": "code",
   "execution_count": 733,
   "metadata": {},
   "outputs": [],
   "source": [
    "def cal_tfidf():\n",
    "    N = len(docId)\n",
    "    for word in inverted_lists:\n",
    "        df = len(inverted_lists[word])\n",
    "        idf = math.log( N / df, 10 )\n",
    "        for doc in inverted_lists[word]:\n",
    "            tf = inverted_lists[word][doc][1]\n",
    "            inverted_lists[word][doc][0] = tf * idf\n",
    "    with open('inverted_index', 'w', encoding=\"utf8\") as f:\n",
    "        json.dump(inverted_lists, f)"
   ]
  },
  {
   "cell_type": "code",
   "execution_count": 734,
   "metadata": {},
   "outputs": [],
   "source": [
    "cal_tfidf()"
   ]
  },
  {
   "cell_type": "code",
   "execution_count": 736,
   "metadata": {},
   "outputs": [],
   "source": [
    "def zipper(listA, listB):\n",
    "    i = 0\n",
    "    j = 0\n",
    "    resultDoc = []\n",
    "    while i < len(listA) and j < len(listB):\n",
    "        if listA[i] == listB[j]:\n",
    "            resultDoc.append(listA[i])\n",
    "            i += 1\n",
    "            j += 1\n",
    "        elif listA[i] > listB[j]:\n",
    "            j += 1\n",
    "        else:\n",
    "            i += 1\n",
    "    return resultDoc"
   ]
  },
  {
   "cell_type": "code",
   "execution_count": 737,
   "metadata": {},
   "outputs": [],
   "source": [
    "def merge_inverted_lists(queryA, queryB):    \n",
    "    listA = inverted_lists[queryA]\n",
    "    listA = list(listA.keys())\n",
    "    listB = inverted_lists[queryB]\n",
    "    listB = list(listB.keys())\n",
    "    \n",
    "    return zipper(listA, listB)"
   ]
  },
  {
   "cell_type": "code",
   "execution_count": 738,
   "metadata": {},
   "outputs": [],
   "source": [
    "def query_doc(query_string):\n",
    "    returnDoc = []\n",
    "\n",
    "    query_list = word_tokenize(query_string)\n",
    "    query_list = [ps.stem(word) for word in query_list]\n",
    "    if len(query_list) >= 1:\n",
    "        listA = inverted_lists[query_list[0]]\n",
    "        listA = list(listA.keys())\n",
    "        returnDoc = listA\n",
    "\n",
    "    if len(query_list) >= 2:\n",
    "        listB = inverted_lists[query_list[1]]\n",
    "        listB = list(listB.keys())\n",
    "        returnDoc = zipper(listA, listB)\n",
    "\n",
    "    if len(query_list) >=3:\n",
    "        for query in query_list[2:]:\n",
    "            listC = inverted_lists[query]\n",
    "            listC = list(listC.keys())\n",
    "            returnDoc = zipper(returnDoc, listC)\n",
    "\n",
    "    returnDoc_score = []\n",
    "    for doc in returnDoc:\n",
    "        returnDoc_score.append([doc,0])\n",
    "        for query in query_list:\n",
    "            returnDoc_score[-1][1] += inverted_lists[query][doc][0] \n",
    "    returnDoc_score.sort(key= lambda x: x[1], reverse=True)\n",
    "    return returnDoc_score\n"
   ]
  },
  {
   "cell_type": "code",
   "execution_count": 739,
   "metadata": {},
   "outputs": [
    {
     "data": {
      "text/plain": [
       "[[7, 0.02275427221731379],\n",
       " [32, 0.02235903708889271],\n",
       " [14, 0.02185364084780319],\n",
       " [6, 0.02088691427702787],\n",
       " [29, 0.015897884475879975],\n",
       " [23, 0.012650578770927672],\n",
       " [27, 0.012415969383354496],\n",
       " [28, 0.010990140427208703],\n",
       " [9, 0.01073398789193024],\n",
       " [3, 0.00897310595988493],\n",
       " [8, 0.00802373181198018],\n",
       " [22, 0.007248935373509992],\n",
       " [20, 0.0024183612941013864]]"
      ]
     },
     "execution_count": 739,
     "metadata": {},
     "output_type": "execute_result"
    }
   ],
   "source": [
    "query_string  = 'design thinking'\n",
    "query_doc(query_string)"
   ]
  },
  {
   "cell_type": "code",
   "execution_count": 740,
   "metadata": {},
   "outputs": [],
   "source": [
    "def getPosting(query_string, docId):\n",
    "    WORD_PER_PASSAGE = 10\n",
    "    result_docs = []\n",
    "    result_rank = {}\n",
    "    result_list_rank = []\n",
    "    \n",
    "    doc_count =  0\n",
    "    for word in word_tokenize(query_string):\n",
    "        word = ps.stem(word)\n",
    "        result_docs.append([rid//WORD_PER_PASSAGE for rid in inverted_lists[word][docId][3:]])\n",
    "    for doc in result_docs:\n",
    "        doc_count += len(doc)\n",
    "    for docs in result_docs:\n",
    "        idf = math.log(doc_count/len(docs))\n",
    "        for doc in docs:\n",
    "            if not result_rank.get(doc):\n",
    "                result_rank[doc] = idf\n",
    "            else:\n",
    "                result_rank[doc] += idf\n",
    "    for item in result_rank:\n",
    "        result_list_rank.append((item*WORD_PER_PASSAGE, result_rank[item]))\n",
    "    result_list_rank.sort(key=lambda x: x[1], reverse=True)\n",
    "    return result_list_rank[:3]"
   ]
  },
  {
   "cell_type": "code",
   "execution_count": 753,
   "metadata": {},
   "outputs": [],
   "source": [
    "def get_sec(time_str):\n",
    "    h, m, s = time_str.split(':')\n",
    "    return int(h) * 3600 + int(m) * 60 + int(s)\n",
    "\n",
    "def get_range(srt_path, query):\n",
    "    with open (srt_path, 'r', encoding=\"utf8\") as f:\n",
    "        content = f.readlines()\n",
    "        content = [x.strip() for x in content]\n",
    "    num ={}\n",
    "    for i,ele in enumerate(content):\n",
    "        if ele.isdigit()== True:\n",
    "            second = get_sec(content[i+1][0:8])\n",
    "            sub = cleanhtml(content[i+2])\n",
    "            num[int(ele)] = (second, sub)\n",
    "    if num.get(query):\n",
    "        summery = \"\"\n",
    "        for i in range(5):\n",
    "            summery = summery + \" \" + num[query + i][1]\n",
    "        return (num[query][0], summery)\n",
    "    else:\n",
    "        return 0\n"
   ]
  },
  {
   "cell_type": "code",
   "execution_count": 754,
   "metadata": {},
   "outputs": [
    {
     "name": "stdout",
     "output_type": "stream",
     "text": [
      "{'How to Demonstrate Engineering Principles Science Projects.mp4': [0, (167, ' structure to have this amazing centered gravity, always trying to knock you down. In fact, you start to lean forward, because in your gravity. Which is why our backs arch as we But, now look. I just made a three-dimensional'), (52, ' a structure, I think, that people can build? means more than one or two, I would say. And, has to be standing. You’re not allowed to stable. Stable on the table. Gravity should to simulate an earthquake. So, after you’re')], 'Group Initiative that Inspires Powerful Metaphors - Marshmallow Challenge.mp4': [(71, ' to work together is to combine all of those resources to create not only a self-supporting structure but most importantly you may have the tallest structure and still not'), (146, \" everyone must pull back stand clear from their structure and I shall measure from the ground to the top of your marshmallow the team and if there'll be eight teams the one with the most\"), (35, \" to use it you'll also receive about 600 mils of twine a piece of string I'm also going to give each of your groups 20 sticks of thin spaghetti 20 sticks of thin spaghetti they are located in the\")], 'Build a tower, build a team _ Tom Wujec.mp4': [(16, \" Several years ago here at TED, Peter Skillman introduced a design challenge called the marshmallow challenge. And the idea's pretty simple: Teams of four have to build the tallest free-standing structure\"), (332, ' digital tools and processes to help teams build cars and video games and visual effects. And what the marshmallow challenge does is it helps them identify the hidden assumptions.'), (305, ' What do you think happened then? So now they understand the value of prototyping. So the same team went from being the very worst to being among the very best. They produced the tallest structures in the least amount of time.')], 'Peter Skillman Marshmallow Design Challenge.mp4': [0, (85, \" so all projects have resource constraints but you'll never get more unless you ask and interestingly enough adults accept the rules is sacrosanct and don't often challenge them and I'd\")]}\n"
     ]
    }
   ],
   "source": [
    "idDoc = list(docId)\n",
    "def query(query_string):\n",
    "    res = {}\n",
    "    for doc in query_doc(query_string):\n",
    "        docName = idDoc[int(doc[0]) - 1]\n",
    "        vidName = docName.replace(\".transcribed\", \"\") + \".mp4\"\n",
    "        res[vidName] = []\n",
    "        posting = getPosting(query_string, doc[0])\n",
    "        for srtId in posting:\n",
    "            res[vidName].append(get_range('srt/{}.srt'.format(docName), srtId[0] + 1))\n",
    "    print(res)\n",
    "query('marshmallow challenge')"
   ]
  },
  {
   "cell_type": "code",
   "execution_count": 743,
   "metadata": {},
   "outputs": [
    {
     "name": "stdout",
     "output_type": "stream",
     "text": [
      "['\\ufeff1\\n', '00:00:00,060 --> 00:00:06,899\\n', 'this is the<font color=\"#CCCCCC\"> bass you wonder hi never to</font>\\n']\n",
      "['2\\n', '00:00:03,179 --> 00:00:13,830\\n', 'the<font color=\"#CCCCCC\"> bass</font><font color=\"#E5E5E5\"> because</font><font color=\"#CCCCCC\"> I was awaiting</font><font color=\"#E5E5E5\"> realer</font>\\n']\n",
      "['3\\n', '00:00:06,899 --> 00:00:17,580\\n', '<font color=\"#E5E5E5\">it\\'s amazing no</font><font color=\"#CCCCCC\"> so we had to start</font><font color=\"#E5E5E5\"> with</font>\\n']\n",
      "['4\\n', '00:00:13,830 --> 00:00:20,640\\n', 'a<font color=\"#E5E5E5\"> sturdy base we decided we wanted</font><font color=\"#CCCCCC\"> to do</font>\\n']\n",
      "['5\\n', '00:00:17,580 --> 00:00:23,930\\n', 'criss cross<font color=\"#E5E5E5\"> section to give it more</font>\\n']\n",
      "['6\\n', '00:00:20,640 --> 00:00:26,609\\n', 'stability so<font color=\"#CCCCCC\"> that</font><font color=\"#E5E5E5\"> it could be taller</font>\\n']\n",
      "['7\\n', '00:00:23,930 --> 00:00:30,240\\n', 'gradually got swimmers we went up so<font color=\"#E5E5E5\"> it</font>\\n']\n",
      "['8\\n', '00:00:26,609 --> 00:00:33,090\\n', '<font color=\"#CCCCCC\">also</font><font color=\"#E5E5E5\"> be more sturdy and</font><font color=\"#CCCCCC\"> then towards the</font>\\n']\n",
      "['9\\n', '00:00:30,240 --> 00:00:36,930\\n', 'end we<font color=\"#CCCCCC\"> decided</font><font color=\"#E5E5E5\"> we didn\\'t have enough</font>\\n']\n",
      "['10\\n', '00:00:33,090 --> 00:00:39,890\\n', 'time<font color=\"#E5E5E5\"> to build on it really</font><font color=\"#CCCCCC\"> so we started</font>\\n']\n",
      "['11\\n', '00:00:36,930 --> 00:00:49,910\\n', 'building in segments that<font color=\"#E5E5E5\"> went to us</font>\\n']\n",
      "['12\\n', '00:00:39,890 --> 00:00:49,910\\n', '<font color=\"#E5E5E5\">step on top for the</font><font color=\"#CCCCCC\"> first night you said</font>\\n']\n",
      "['13\\n', '00:00:59,059 --> 00:01:05,309\\n', 'everyone<font color=\"#CCCCCC\"> okay we broke a</font><font color=\"#E5E5E5\"> lot is already</font>\\n']\n",
      "['14\\n', '00:01:02,789 --> 00:01:15,750\\n', 'process issue and we still are<font color=\"#CCCCCC\"> break-in</font>\\n']\n",
      "['15\\n', '00:01:05,309 --> 00:01:17,759\\n', '<font color=\"#CCCCCC\">to getting if you can see that what</font><font color=\"#E5E5E5\"> play</font>\\n']\n",
      "['16\\n', '00:01:15,750 --> 00:01:22,710\\n', '<font color=\"#E5E5E5\">Rico sure is there you understood what I</font>\\n']\n",
      "['17\\n', '00:01:17,759 --> 00:01:26,299\\n', 'have my<font color=\"#E5E5E5\"> services team</font><font color=\"#CCCCCC\"> up to</font><font color=\"#E5E5E5\"> awesome team</font>\\n']\n",
      "['18\\n', '00:01:22,710 --> 00:01:26,298\\n', '<font color=\"#CCCCCC\">awesome I\\'m avail</font>\\n']\n",
      "['19\\n', '00:01:26,820 --> 00:01:40,939\\n', '<font color=\"#E5E5E5\">I don\\'t have any things though and I\\'m</font>\\n']\n",
      "['20\\n', '00:01:37,500 --> 00:01:40,939\\n', 'Monica<font color=\"#E5E5E5\"> but I don\\'t the name</font>\\n']\n"
     ]
    }
   ],
   "source": [
    "tmp_docs = []\n",
    "tmp_lines = []\n",
    "with open('srt/'+list(docId)[25] + '.srt', encoding=\"utf8\") as file:\n",
    "    for line in file:\n",
    "        if not line.strip():\n",
    "            tmp_docs.append(tmp_lines)\n",
    "            tmp_lines = []\n",
    "        else: \n",
    "            tmp_lines.append(line)\n",
    "\n",
    "for rec in tmp_docs:\n",
    "    print(rec)\n",
    "# recList = [2,3,8,9,33,39,65,70,72,129,134,137,101]\n",
    "# for rec in recList:\n",
    "#     print(tmp_docs[rec-1])\n",
    "# for line in tmp_docs:\n",
    "#     print(line)"
   ]
  },
  {
   "cell_type": "code",
   "execution_count": 744,
   "metadata": {},
   "outputs": [
    {
     "name": "stdout",
     "output_type": "stream",
     "text": [
      "{key: 0, name: \"7 Ways to Improve Your NEGOTIATION SKILLS - #7Ways.mp4\", pos:[0]},\n",
      "{key: 1, name: \"Best DIY Robot kit for beginners - Micro_Bit.mp4\", pos:[0]},\n",
      "{key: 2, name: \"Build a tower, build a team _ Tom Wujec.mp4\", pos:[0]},\n",
      "{key: 3, name: \"Ch. 0 If The World Were A Village.mp4\", pos:[0]},\n",
      "{key: 4, name: \"Conducting Effective Negotiations.mp4\", pos:[0]},\n",
      "{key: 5, name: \"Design Thinking - Tim Brown, CEO and President of IDEO.mp4\", pos:[0]},\n",
      "{key: 6, name: \"Design Thinking In Business.mp4\", pos:[0]},\n",
      "{key: 7, name: \"Design Thinking workshop with Justin Ferrell of Stanford d. School at The Irish Times.mp4\", pos:[0]},\n",
      "{key: 8, name: \"Designing Your Life Bill Burnett TEDxStanford.mp4\", pos:[0]},\n",
      "{key: 9, name: \"Getting Started with microbit Part 1 Say Hello.mp4\", pos:[0]},\n",
      "{key: 10, name: \"Getting Started with microbit Part 4 Remote Burglar Alarm.mp4\", pos:[0]},\n",
      "{key: 11, name: \"Getting Started with micro_bit Part 2_ Electronic Magic 8 Ball.mp4\", pos:[0]},\n",
      "{key: 12, name: \"Group Initiative that Inspires Powerful Metaphors - Marshmallow Challenge.mp4\", pos:[0]},\n",
      "{key: 13, name: \"How It Works Design Thinking.mp4\", pos:[0]},\n",
      "{key: 14, name: \"How to Demonstrate Engineering Principles Science Projects.mp4\", pos:[0]},\n",
      "{key: 15, name: \"If The World Was 100 People by Jay Shetty.mp4\", pos:[0]},\n",
      "{key: 16, name: \"If the World Was Only 100 People.mp4\", pos:[0]},\n",
      "{key: 17, name: \"If the World Were a Village of 100 People A Story About the World's People - Trailer.mp4\", pos:[0]},\n",
      "{key: 18, name: \"Line follower robot - Micro bit robot project - How to make a Snake Robot.mp4\", pos:[0]},\n",
      "{key: 19, name: \"microbit Tutorial Series Part 1 Getting Started.mp4\", pos:[0]},\n",
      "{key: 20, name: \"microbit Tutorial Series Part 2 Images, Buttons, and Conditionals.mp4\", pos:[0]},\n",
      "{key: 21, name: \"MITESD_051JF12_lec02_300k.mp4\", pos:[0]},\n",
      "{key: 22, name: \"MITESD_051JF12_lec03_300k.mp4\", pos:[0]},\n",
      "{key: 23, name: \"Negotiation Skills Top 10 Tips.mp4\", pos:[0]},\n",
      "{key: 24, name: \"Peter Skillman Marshmallow Design Challenge.mp4\", pos:[0]},\n",
      "{key: 25, name: \"Spaghetti and Marshmallow tower- team awesome.mp4\", pos:[0]},\n",
      "{key: 26, name: \"Speed up Innovation with Design Thinking Guido Stompff TEDxVenlo.mp4\", pos:[0]},\n",
      "{key: 27, name: \"Stanford Webinar - Design Thinking = Method, Not Magic.mp4\", pos:[0]},\n",
      "{key: 28, name: \"The Design Thinking Process.mp4\", pos:[0]},\n",
      "{key: 29, name: \"What If United States Was Only 100 People.mp4\", pos:[0]},\n",
      "{key: 30, name: \"[DownSub.com] The Art of Negotiation _ Maria Ploumaki _ TEDxYouth@Zurich.mp4\", pos:[0]},\n",
      "{key: 31, name: \"[DownSub.com] Understand IBM Design Thinking in 10 minutes.mp4\", pos:[0]},\n",
      "{key: 32, name: \"[DownSub.com] What If Only 100 People Existed on Earth_.mp4\", pos:[0]},\n"
     ]
    }
   ],
   "source": [
    "for i in ['key: {}, name: \"{}\", pos:[0]'.format(key, v) for key,v in enumerate(os.listdir('video/'))]:\n",
    "    print('{' + i + '},')"
   ]
  },
  {
   "cell_type": "code",
   "execution_count": 745,
   "metadata": {},
   "outputs": [
    {
     "data": {
      "text/plain": [
       "{'7 Ways to Improve Your NEGOTIATION SKILLS - #7Ways': 1,\n",
       " 'Best DIY Robot kit for beginners - Micro_Bit': 2,\n",
       " 'Build a tower, build a team _ Tom Wujec': 3,\n",
       " 'Ch. 0 If The World Were A Village': 4,\n",
       " 'Conducting Effective Negotiations': 5,\n",
       " 'Design Thinking - Tim Brown, CEO and President of IDEO': 6,\n",
       " 'Design Thinking In Business': 7,\n",
       " 'Design Thinking workshop with Justin Ferrell of Stanford d. School at The Irish Times': 8,\n",
       " 'Designing Your Life Bill Burnett TEDxStanford': 9,\n",
       " 'Getting Started with microbit Part 1 Say Hello': 10,\n",
       " 'Getting Started with microbit Part 4 Remote Burglar Alarm': 11,\n",
       " 'Getting Started with micro_bit Part 2_ Electronic Magic 8 Ball': 12,\n",
       " 'Group Initiative that Inspires Powerful Metaphors - Marshmallow Challenge': 13,\n",
       " 'How It Works Design Thinking': 14,\n",
       " 'How to Demonstrate Engineering Principles Science Projects': 15,\n",
       " 'If The World Was 100 People by Jay Shetty': 16,\n",
       " 'If the World Was Only 100 People': 17,\n",
       " \"If the World Were a Village of 100 People A Story About the World's People - Trailer\": 18,\n",
       " 'Line follower robot - Micro bit robot project - How to make a Snake Robot': 19,\n",
       " 'microbit Tutorial Series Part 1 Getting Started': 20,\n",
       " 'microbit Tutorial Series Part 2 Images, Buttons, and Conditionals': 21,\n",
       " 'MITESD_051JF12_lec02_300k': 22,\n",
       " 'MITESD_051JF12_lec03_300k': 23,\n",
       " 'Negotiation Skills Top 10 Tips': 24,\n",
       " 'Peter Skillman Marshmallow Design Challenge': 25,\n",
       " 'Spaghetti and Marshmallow tower- team awesome': 26,\n",
       " 'Speed up Innovation with Design Thinking Guido Stompff TEDxVenlo': 27,\n",
       " 'Stanford Webinar - Design Thinking = Method, Not Magic': 28,\n",
       " 'The Design Thinking Process': 29,\n",
       " 'What If United States Was Only 100 People': 30,\n",
       " '[DownSub.com] The Art of Negotiation _ Maria Ploumaki _ TEDxYouth@Zurich': 31,\n",
       " '[DownSub.com] Understand IBM Design Thinking in 10 minutes': 32,\n",
       " '[DownSub.com] What If Only 100 People Existed on Earth_': 33}"
      ]
     },
     "execution_count": 745,
     "metadata": {},
     "output_type": "execute_result"
    }
   ],
   "source": [
    "docId"
   ]
  },
  {
   "cell_type": "code",
   "execution_count": 724,
   "metadata": {},
   "outputs": [],
   "source": [
    "''' rename sub to be same as video '''\n",
    "\n",
    "srt = os.listdir('srt/')\n",
    "for filename in os.listdir(\"video/\"):\n",
    "    for file in srt:\n",
    "        if filename[:-5] in file:\n",
    "            os.rename('srt/' + file, 'srt/{}.srt'.format(filename[:-4]))"
   ]
  },
  {
   "cell_type": "code",
   "execution_count": null,
   "metadata": {},
   "outputs": [],
   "source": []
  }
 ],
 "metadata": {
  "kernelspec": {
   "display_name": "Python 3",
   "language": "python",
   "name": "python3"
  },
  "language_info": {
   "codemirror_mode": {
    "name": "ipython",
    "version": 3
   },
   "file_extension": ".py",
   "mimetype": "text/x-python",
   "name": "python",
   "nbconvert_exporter": "python",
   "pygments_lexer": "ipython3",
   "version": "3.6.1"
  }
 },
 "nbformat": 4,
 "nbformat_minor": 2
}
