{
 "cells": [
  {
   "cell_type": "code",
   "execution_count": 1,
   "metadata": {},
   "outputs": [],
   "source": [
    "const stemmer = require('stemmer')\n",
    "const invertedIndex = require('./index/invertedIndex.json')\n",
    "const wordListCollection = require('./index/wordList.json')\n",
    "const invertedIndex_all = require('./index/invertedIndex_all.json')\n",
    "const wordListCollection_all = require('./index/wordList_all.json')\n",
    "const docList = require('./index/docList.json')\n",
    "const parser = require('subtitles-parser')"
   ]
  },
  {
   "cell_type": "code",
   "execution_count": 2,
   "metadata": {},
   "outputs": [],
   "source": [
    "function parseQuery (queryString) {\n",
    "\tlet querylist = queryString.split(' ')\n",
    "\tquerylist = querylist.map(query => stemmer(query))\n",
    "\treturn querylist\n",
    "}"
   ]
  },
  {
   "cell_type": "code",
   "execution_count": 3,
   "metadata": {},
   "outputs": [],
   "source": [
    "function getDocList (queryA, ii) {\n",
    "\tif (ii[queryA]){\n",
    "\t\treturn Object.keys(ii[queryA]['d'])\n",
    "\t}\n",
    "\treturn []\n",
    "}"
   ]
  },
  {
   "cell_type": "code",
   "execution_count": 4,
   "metadata": {},
   "outputs": [],
   "source": [
    "function zipper (listA, listB) {\n",
    "\tif (listA.length === 0){\n",
    "\t\treturn listB\n",
    "\t}\n",
    "\tif (listB.length === 0){\n",
    "\t\treturn listA\n",
    "\t}\n",
    "\tlet i = 0\n",
    "\tlet j = 0\n",
    "\tlet resultDoc = []\n",
    "\twhile (i < listA.length && j < listB.length){\n",
    "\t\tif (listA[i] == listB[j]){\n",
    "\t\t\tresultDoc.push(listA[i])\n",
    "\t\t\ti++\n",
    "\t\t\tj++\n",
    "\t\t} else if (listA[i] > listB[j]){\n",
    "\t\t\tj++\n",
    "\t\t} else {\n",
    "\t\t\ti++\n",
    "\t\t}\n",
    "\t} \n",
    "\treturn resultDoc\n",
    "}"
   ]
  },
  {
   "cell_type": "code",
   "execution_count": 102,
   "metadata": {},
   "outputs": [],
   "source": [
    "function positionalIntersect (p1, p2, k)  {\n",
    "\tif (p1.length === 0){\n",
    "\t\treturn p2\n",
    "\t}\n",
    "\tif (p2.length === 0){\n",
    "\t\treturn p1\n",
    "\t}\n",
    "        \n",
    "\tlet i = 0\n",
    "\tlet j = 0\n",
    "\tlet resultDoc = []\n",
    "\tlet oldB = 0\n",
    "\twhile (i < p1.length){\n",
    "\t\tlet p1ID = parseInt(p1[i])\n",
    "\t\tlet p2ID = parseInt(p2[j])\n",
    "\t\tif (p1ID < oldB + k){\n",
    "\t\t\ti++\n",
    "\t\t} else if (p2ID < p1ID) {\n",
    "\t\t\tj++\n",
    "\t\t} else if (p2ID <= p1ID + k){\n",
    "\t\t\tresultDoc.push(p1ID)\n",
    "\t\t\ti++\n",
    "\t\t\toldB = p2ID\n",
    "\t\t} else {\n",
    "\t\t\ti++\n",
    "\t\t}\n",
    "\t} \n",
    "\treturn resultDoc\n",
    "}"
   ]
  },
  {
   "cell_type": "code",
   "execution_count": 5,
   "metadata": {},
   "outputs": [],
   "source": [
    "function query (queryString)  {\n",
    "\tlet querylist = parseQuery(queryString)\n",
    "\tlet returnList = {}\n",
    "\tlet returnDoc = []\n",
    "\tif (querylist.length === 1) {\n",
    "\t\treturnDoc = getDocList(querylist[0])\n",
    "\t}\n",
    "\telse {\n",
    "\t\tlet docLists = querylist.map(query => getDocList(query))\n",
    "\t\treturnDoc = []\n",
    "\t\tdocLists.forEach(docList => returnDoc = zipper(returnDoc, docList))\n",
    "\t}\n",
    "\treturnDoc.forEach(docID =>{\n",
    "\t\tlet docInfo = docList[docID]\n",
    "\t\tif (!returnList[docInfo.c]){\n",
    "\t\t\treturnList[docInfo.c] = {}\n",
    "\t\t}\n",
    "\t\treturnList[docInfo.c][docInfo.n.replace('.srt','')] = {id:docID}\n",
    "\t})\n",
    "\tObject.keys(returnList).forEach(category=>{\n",
    "\t\tObject.keys(returnList[category]).forEach(docName=>{\n",
    "\t\t\tlet srt = fs.readFileSync(`./public/srt/${category}/${docName}.srt`, 'utf8')\n",
    "\t\t\tlet data = parser.fromSrt(srt, true)\n",
    "\t\t\tlet description = ''\n",
    "\t\t\tfor(let i=0; i < 5; i++){\n",
    "\t\t\t\tdescription = description + ' ' + clearHtml(data[i].text)\n",
    "\t\t\t}\n",
    "\t\t\treturnList[category][docName]['d'] = description \n",
    "\t\t})\n",
    "\t})\n",
    "\t// console.log(returnList)\n",
    "\treturn returnList \n",
    "}"
   ]
  },
  {
   "cell_type": "code",
   "execution_count": 6,
   "metadata": {},
   "outputs": [],
   "source": [
    "function clearHtml (text) {\n",
    "\treturn text.replace(/<(?:.|\\n)*?>/gm, '')\n",
    "}"
   ]
  },
  {
   "cell_type": "code",
   "execution_count": 87,
   "metadata": {},
   "outputs": [
    {
     "name": "stdout",
     "output_type": "stream",
     "text": [
      "{ n: 'MIT6_851S12_lec01_300k.srt',\n",
      "  d: 1560592391320,\n",
      "  c: 'Data-Structure',\n",
      "  h: 'B8OLyWk' } '3'\n",
      "{ n: 'NMxLL3D5qd8.srt.txt',\n",
      "  d: 1560592391336,\n",
      "  c: 'Data-Structure',\n",
      "  h: '4WEjM77' } '4'\n",
      "{ n: 'WqCWghETNDc.srt.txt',\n",
      "  d: 1560592391350,\n",
      "  c: 'Data-Structure',\n",
      "  h: 'rYgZJl2' } '5'\n"
     ]
    },
    {
     "ename": "Error",
     "evalue": "ENOENT: no such file or directory, open './public/vtt/Data-Structure/MIT6_851S12_lec01_300k.srt'",
     "output_type": "error",
     "traceback": [
      "fs.js:114",
      "    throw err;",
      "    ^",
      "",
      "Error: ENOENT: no such file or directory, open './public/vtt/Data-Structure/MIT6_851S12_lec01_300k.srt'",
      "    at Object.openSync (fs.js:438:3)",
      "    at Object.readFileSync (fs.js:343:35)",
      "    at Object.keys.forEach.docName (evalmachine.<anonymous>:23:22)",
      "    at Array.forEach (<anonymous>)",
      "    at Object.keys.forEach.category (evalmachine.<anonymous>:22:39)",
      "    at Array.forEach (<anonymous>)",
      "    at evalmachine.<anonymous>:21:25",
      "    at Script.runInThisContext (vm.js:119:20)",
      "    at Object.runInThisContext (vm.js:326:38)",
      "    at run ([eval]:1002:15)"
     ]
    }
   ],
   "source": [
    "queryString = 'persistance data structure'\n",
    "querylist = parseQuery(queryString)\n",
    "returnList = {}\n",
    "returnDoc = []\n",
    "if (querylist.length === 1) {\n",
    "    returnDoc = getDocList(querylist[0], invertedIndex)\n",
    "}\n",
    "else {\n",
    "    let docLists = querylist.map(query => getDocList(query, invertedIndex))\n",
    "    returnDoc = []\n",
    "    docLists.forEach(docList => returnDoc = zipper(returnDoc, docList))\n",
    "}\n",
    "returnDoc.forEach(docID =>{\n",
    "    let docInfo = docList[docID]\n",
    "    console.log(docInfo,docID)\n",
    "    if (!returnList[docInfo.c]){\n",
    "        returnList[docInfo.c] = {}\n",
    "    }\n",
    "    returnList[docInfo.c][docInfo.n.replace('.srt','')] = {id:docID}\n",
    "})\n",
    "Object.keys(returnList).forEach(category=>{\n",
    "    Object.keys(returnList[category]).forEach(docName=>{\n",
    "        let srt = fs.readFileSync(`./public/vtt/${category}/${docName}.srt`, 'utf8')\n",
    "        let data = parser.fromSrt(srt, true)\n",
    "        let description = ''\n",
    "        for(let i=0; i < 5; i++){\n",
    "            description = description + ' ' + clearHtml(data[i].text)\n",
    "        }\n",
    "        returnList[category][docName]['d'] = description \n",
    "    })\n",
    "})\n",
    "console.log(returnList)"
   ]
  },
  {
   "cell_type": "code",
   "execution_count": 88,
   "metadata": {},
   "outputs": [],
   "source": [
    "returnList = {}\n",
    "returnDoc.forEach(docid => {\n",
    "    returnList[docid] = {s:0, ...docList[docid]}\n",
    "    querylist.forEach(stemmed => {\n",
    "        if (invertedIndex[stemmed] && invertedIndex[stemmed]['d'][docid])\n",
    "        returnList[docid]['s'] += invertedIndex[stemmed]['d'][docid].tfidf\n",
    "    })\n",
    "})"
   ]
  },
  {
   "cell_type": "code",
   "execution_count": 89,
   "metadata": {},
   "outputs": [
    {
     "data": {
      "text/plain": [
       "{ '3':\n",
       "   { s: 38.03571195602715,\n",
       "     n: 'MIT6_851S12_lec01_300k.srt',\n",
       "     d: 1560592391320,\n",
       "     c: 'Data-Structure',\n",
       "     h: 'B8OLyWk' },\n",
       "  '4':\n",
       "   { s: 14.263391983510179,\n",
       "     n: 'NMxLL3D5qd8.srt.txt',\n",
       "     d: 1560592391336,\n",
       "     c: 'Data-Structure',\n",
       "     h: '4WEjM77' },\n",
       "  '5':\n",
       "   { s: 18.48958220084653,\n",
       "     n: 'WqCWghETNDc.srt.txt',\n",
       "     d: 1560592391350,\n",
       "     c: 'Data-Structure',\n",
       "     h: 'rYgZJl2' } }"
      ]
     },
     "execution_count": 89,
     "metadata": {},
     "output_type": "execute_result"
    }
   ],
   "source": [
    "returnList"
   ]
  },
  {
   "cell_type": "code",
   "execution_count": 90,
   "metadata": {},
   "outputs": [
    {
     "data": {
      "text/plain": [
       "{ '0':\n",
       "   { n: 'leXa7EKUPFk.srt.txt',\n",
       "     d: 1560592391292,\n",
       "     c: 'AI',\n",
       "     h: '0LNA4oL' },\n",
       "  '1':\n",
       "   { n: 'MIT6_034F10_lec01_300k.srt',\n",
       "     d: 1560592391310,\n",
       "     c: 'AI',\n",
       "     h: 'Yy22kjW' },\n",
       "  '2':\n",
       "   { n: 'PNKj529yY5c.srt.txt',\n",
       "     d: 1560592391316,\n",
       "     c: 'AI',\n",
       "     h: 'vlVwMYV' },\n",
       "  '3':\n",
       "   { n: 'MIT6_851S12_lec01_300k.srt',\n",
       "     d: 1560592391320,\n",
       "     c: 'Data-Structure',\n",
       "     h: 'B8OLyWk' },\n",
       "  '4':\n",
       "   { n: 'NMxLL3D5qd8.srt.txt',\n",
       "     d: 1560592391336,\n",
       "     c: 'Data-Structure',\n",
       "     h: '4WEjM77' },\n",
       "  '5':\n",
       "   { n: 'WqCWghETNDc.srt.txt',\n",
       "     d: 1560592391350,\n",
       "     c: 'Data-Structure',\n",
       "     h: 'rYgZJl2' } }"
      ]
     },
     "execution_count": 90,
     "metadata": {},
     "output_type": "execute_result"
    }
   ],
   "source": [
    "docList"
   ]
  },
  {
   "cell_type": "code",
   "execution_count": 100,
   "metadata": {},
   "outputs": [
    {
     "name": "stdout",
     "output_type": "stream",
     "text": [
      "\n"
     ]
    }
   ],
   "source": [
    "listA = invertedIndex[stemmer('persistance')]['d'][3].s\n",
    "listB = (invertedIndex[stemmer('data')]['d'][3].s)\n",
    "listC = (invertedIndex[stemmer('structure')]['d'][3].s)\n",
    "console.log()"
   ]
  },
  {
   "cell_type": "code",
   "execution_count": 106,
   "metadata": {},
   "outputs": [
    {
     "name": "stdout",
     "output_type": "stream",
     "text": [
      "\n"
     ]
    }
   ],
   "source": [
    "listAB = positionalIntersect(listA, listB, 5)\n",
    "listBC = positionalIntersect(listB, listC, 5)\n",
    "console.log()"
   ]
  },
  {
   "cell_type": "code",
   "execution_count": 107,
   "metadata": {},
   "outputs": [
    {
     "data": {
      "text/plain": [
       "[ 223, 310, 339, 392, 409, 424, 1412, 1673, 1685 ]"
      ]
     },
     "execution_count": 107,
     "metadata": {},
     "output_type": "execute_result"
    }
   ],
   "source": [
    "positionalIntersect(listAB, listBC, 5)"
   ]
  },
  {
   "cell_type": "code",
   "execution_count": 121,
   "metadata": {},
   "outputs": [
    {
     "name": "stdout",
     "output_type": "stream",
     "text": [
      "[]\n"
     ]
    },
    {
     "ename": "TypeError",
     "evalue": "Cannot read property 'text' of undefined",
     "output_type": "error",
     "traceback": [
      "evalmachine.<anonymous>:8",
      "        description = description + ' ' + clearHtml(data[i].text)",
      "                                                            ^",
      "",
      "TypeError: Cannot read property 'text' of undefined",
      "    at getDescription (evalmachine.<anonymous>:8:61)",
      "    at evalmachine.<anonymous>:12:1",
      "    at Script.runInThisContext (vm.js:119:20)",
      "    at Object.runInThisContext (vm.js:326:38)",
      "    at run ([eval]:1002:15)",
      "    at onRunRequest ([eval]:829:18)",
      "    at onMessage ([eval]:789:13)",
      "    at process.emit (events.js:189:13)",
      "    at emit (internal/child_process.js:820:12)",
      "    at process._tickCallback (internal/process/next_tick.js:63:19)"
     ]
    }
   ],
   "source": [
    "function getDescription(docid){\n",
    "    let h = docList[docid]['h']\n",
    "    let srt = fs.readFileSync(`./public/vtt/${h}.vtt`, 'utf8')\n",
    "    let data = parser.fromSrt(srt, true)\n",
    "    console.log(data)\n",
    "    let description = ''\n",
    "    for(let i=0; i < 5; i++){\n",
    "        description = description + ' ' + clearHtml(data[i].text)\n",
    "    }\n",
    "    console.log(description)\n",
    "}\n",
    "getDescription('3')\n"
   ]
  },
  {
   "cell_type": "code",
   "execution_count": 93,
   "metadata": {},
   "outputs": [
    {
     "ename": "SyntaxError",
     "evalue": "Identifier 'docLists' has already been declared",
     "output_type": "error",
     "traceback": [
      "evalmachine.<anonymous>:1",
      "let docLists = querylist.map(query => getDocList(query, invertedIndex))",
      "^",
      "",
      "SyntaxError: Identifier 'docLists' has already been declared",
      "    at evalmachine.<anonymous>:1:1",
      "    at Script.runInThisContext (vm.js:119:20)",
      "    at Object.runInThisContext (vm.js:326:38)",
      "    at run ([eval]:1002:15)",
      "    at onRunRequest ([eval]:829:18)",
      "    at onMessage ([eval]:789:13)",
      "    at process.emit (events.js:189:13)",
      "    at emit (internal/child_process.js:820:12)",
      "    at process._tickCallback (internal/process/next_tick.js:63:19)"
     ]
    }
   ],
   "source": [
    "let docLists = querylist.map(query => getDocList(query, invertedIndex))"
   ]
  },
  {
   "cell_type": "code",
   "execution_count": 94,
   "metadata": {},
   "outputs": [
    {
     "data": {
      "text/plain": [
       "[ '3', '4', '5' ]"
      ]
     },
     "execution_count": 94,
     "metadata": {},
     "output_type": "execute_result"
    }
   ],
   "source": [
    "returnDoc"
   ]
  },
  {
   "cell_type": "code",
   "execution_count": 95,
   "metadata": {},
   "outputs": [
    {
     "data": {
      "text/plain": [
       "{ '0':\n",
       "   { n: 'leXa7EKUPFk.srt.txt',\n",
       "     d: 1560592391292,\n",
       "     c: 'AI',\n",
       "     h: '0LNA4oL' },\n",
       "  '1':\n",
       "   { n: 'MIT6_034F10_lec01_300k.srt',\n",
       "     d: 1560592391310,\n",
       "     c: 'AI',\n",
       "     h: 'Yy22kjW' },\n",
       "  '2':\n",
       "   { n: 'PNKj529yY5c.srt.txt',\n",
       "     d: 1560592391316,\n",
       "     c: 'AI',\n",
       "     h: 'vlVwMYV' },\n",
       "  '3':\n",
       "   { n: 'MIT6_851S12_lec01_300k.srt',\n",
       "     d: 1560592391320,\n",
       "     c: 'Data-Structure',\n",
       "     h: 'B8OLyWk' },\n",
       "  '4':\n",
       "   { n: 'NMxLL3D5qd8.srt.txt',\n",
       "     d: 1560592391336,\n",
       "     c: 'Data-Structure',\n",
       "     h: '4WEjM77' },\n",
       "  '5':\n",
       "   { n: 'WqCWghETNDc.srt.txt',\n",
       "     d: 1560592391350,\n",
       "     c: 'Data-Structure',\n",
       "     h: 'rYgZJl2' } }"
      ]
     },
     "execution_count": 95,
     "metadata": {},
     "output_type": "execute_result"
    }
   ],
   "source": [
    "docList"
   ]
  },
  {
   "cell_type": "code",
   "execution_count": 122,
   "metadata": {},
   "outputs": [
    {
     "ename": "ReferenceError",
     "evalue": "srt is not defined",
     "output_type": "error",
     "traceback": [
      "evalmachine.<anonymous>:1",
      "srt",
      "^",
      "",
      "ReferenceError: srt is not defined",
      "    at evalmachine.<anonymous>:1:1",
      "    at Script.runInThisContext (vm.js:119:20)",
      "    at Object.runInThisContext (vm.js:326:38)",
      "    at run ([eval]:1002:15)",
      "    at onRunRequest ([eval]:829:18)",
      "    at onMessage ([eval]:789:13)",
      "    at process.emit (events.js:189:13)",
      "    at emit (internal/child_process.js:820:12)",
      "    at process._tickCallback (internal/process/next_tick.js:63:19)"
     ]
    }
   ],
   "source": [
    "srt"
   ]
  },
  {
   "cell_type": "code",
   "execution_count": 134,
   "metadata": {},
   "outputs": [
    {
     "data": {
      "text/plain": [
       "[ 'WEBVTT FILE',\n",
       "  '',\n",
       "  '1',\n",
       "  '00:00:00.090 --> 00:00:02.490',\n",
       "  'The following content is',\n",
       "  'provided under a Creative',\n",
       "  '',\n",
       "  '2',\n",
       "  '00:00:02.490 --> 00:00:04.030',\n",
       "  'Commons license.',\n",
       "  '',\n",
       "  '3',\n",
       "  '00:00:04.030 --> 00:00:06.360',\n",
       "  'Your support will help',\n",
       "  'MIT OpenCourseWare',\n",
       "  '',\n",
       "  '4',\n",
       "  '00:00:06.360 --> 00:00:10.720',\n",
       "  'continue to offer high quality',\n",
       "  'educational resources for free.',\n",
       "  '',\n",
       "  '5',\n",
       "  '00:00:10.720 --> 00:00:13.320',\n",
       "  'To make a donation or',\n",
       "  'view additional materials',\n",
       "  '',\n",
       "  '6',\n",
       "  '00:00:13.320 --> 00:00:17.280',\n",
       "  'from hundreds of MIT courses,',\n",
       "  'visit MIT OpenCourseWare',\n",
       "  '',\n",
       "  '7',\n",
       "  '00:00:17.280 --> 00:00:18.450',\n",
       "  'at ocw.mit.edu.',\n",
       "  '',\n",
       "  '8',\n",
       "  '00:00:21.056 --> 00:00:25.280',\n",
       "  'ERIK DEMAINE: Welcome to 6.851',\n",
       "  'Advanced Data Structures.',\n",
       "  '',\n",
       "  '9',\n",
       "  '00:00:25.280 --> 00:00:26.420',\n",
       "  'I am Erik Demaine.',\n",
       "  '',\n",
       "  '10',\n",
       "  '00:00:26.420 --> 00:00:28.170',\n",
       "  'You can call me Erik.',\n",
       "  '',\n",
       "  '11',\n",
       "  '00:00:28.170 --> 00:00:31.600',\n",
       "  'We have two TAs, Tom',\n",
       "  'Morgan and Justin Zhang.',\n",
       "  '',\n",
       "  '12',\n",
       "  '00:00:31.600 --> 00:00:32.900',\n",
       "  'Tom\\'s back there.',\n",
       "  '',\n",
       "  '13',\n",
       "  '00:00:32.900 --> 00:00:36.260',\n",
       "  'Justin is late.',\n",
       "  '',\n",
       "  '14',\n",
       "  '00:00:36.260 --> 00:00:38.600',\n",
       "  'And this class is',\n",
       "  'about all kinds',\n",
       "  '',\n",
       "  '15',\n",
       "  '00:00:38.600 --> 00:00:40.567',\n",
       "  'of very cool data structures.',\n",
       "  '',\n",
       "  '16',\n",
       "  '00:00:40.567 --> 00:00:42.650',\n",
       "  'You should have already',\n",
       "  'seen basic data structures',\n",
       "  '',\n",
       "  '17',\n",
       "  '00:00:42.650 --> 00:00:45.200',\n",
       "  'like balance binary',\n",
       "  'search trees and things',\n",
       "  '',\n",
       "  '18',\n",
       "  '00:00:45.200 --> 00:00:48.140',\n",
       "  'like that, log n',\n",
       "  'time to do wherever',\n",
       "  '',\n",
       "  '19',\n",
       "  '00:00:48.140 --> 00:00:50.060',\n",
       "  'you want in one dimension.',\n",
       "  '',\n",
       "  '20',\n",
       "  '00:00:50.060 --> 00:00:52.310',\n",
       "  'And here we\\'re going to turn',\n",
       "  'all those data structures',\n",
       "  '',\n",
       "  '21',\n",
       "  '00:00:52.310 --> 00:00:54.143',\n",
       "  'on their head and',\n",
       "  'consider them in all sorts',\n",
       "  '',\n",
       "  '22',\n",
       "  ... 7790 more items ]"
      ]
     },
     "execution_count": 134,
     "metadata": {},
     "output_type": "execute_result"
    }
   ],
   "source": [
    "fs.readFileSync(`./public/vtt/${docList[3]['h']}.vtt`, 'utf8').split(\"\\r\\n\")"
   ]
  },
  {
   "cell_type": "code",
   "execution_count": 131,
   "metadata": {},
   "outputs": [
    {
     "data": {
      "text/plain": [
       "'B8OLyWk'"
      ]
     },
     "execution_count": 131,
     "metadata": {},
     "output_type": "execute_result"
    }
   ],
   "source": [
    "docList[3]['h']"
   ]
  }
 ],
 "metadata": {
  "kernelspec": {
   "display_name": "Javascript (Node.js)",
   "language": "javascript",
   "name": "javascript"
  },
  "language_info": {
   "file_extension": ".js",
   "mimetype": "application/javascript",
   "name": "javascript",
   "version": "10.15.3"
  }
 },
 "nbformat": 4,
 "nbformat_minor": 2
}
